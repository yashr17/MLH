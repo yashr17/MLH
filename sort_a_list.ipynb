{
 "cells": [
  {
   "cell_type": "code",
   "execution_count": 1,
   "metadata": {},
   "outputs": [],
   "source": [
    "import pandas as pd\r\n",
    "import numpy as np"
   ]
  },
  {
   "cell_type": "code",
   "execution_count": 2,
   "metadata": {},
   "outputs": [],
   "source": [
    "file_path = \"G:\\\\MLH\\\\INIT 2022\\\\Day2\\\\(EDITED)_Prime_TV_Shows_Dataset.xlsx\""
   ]
  },
  {
   "cell_type": "code",
   "execution_count": 3,
   "metadata": {},
   "outputs": [],
   "source": [
    "df = pd.read_excel(file_path, engine='openpyxl')"
   ]
  },
  {
   "cell_type": "code",
   "execution_count": 4,
   "metadata": {},
   "outputs": [
    {
     "data": {
      "text/html": [
       "<div>\n",
       "<style scoped>\n",
       "    .dataframe tbody tr th:only-of-type {\n",
       "        vertical-align: middle;\n",
       "    }\n",
       "\n",
       "    .dataframe tbody tr th {\n",
       "        vertical-align: top;\n",
       "    }\n",
       "\n",
       "    .dataframe thead th {\n",
       "        text-align: right;\n",
       "    }\n",
       "</style>\n",
       "<table border=\"1\" class=\"dataframe\">\n",
       "  <thead>\n",
       "    <tr style=\"text-align: right;\">\n",
       "      <th></th>\n",
       "      <th>S.no.</th>\n",
       "      <th>Name of the show</th>\n",
       "      <th>Year of release</th>\n",
       "      <th>No of seasons available</th>\n",
       "      <th>Language</th>\n",
       "      <th>Genre</th>\n",
       "      <th>IMDb rating</th>\n",
       "      <th>Age of viewers</th>\n",
       "    </tr>\n",
       "  </thead>\n",
       "  <tbody>\n",
       "    <tr>\n",
       "      <th>0</th>\n",
       "      <td>1</td>\n",
       "      <td>Pataal Lok</td>\n",
       "      <td>2020</td>\n",
       "      <td>1</td>\n",
       "      <td>Hindi</td>\n",
       "      <td>Drama</td>\n",
       "      <td>7.5</td>\n",
       "      <td>18+</td>\n",
       "    </tr>\n",
       "    <tr>\n",
       "      <th>1</th>\n",
       "      <td>2</td>\n",
       "      <td>Upload</td>\n",
       "      <td>2020</td>\n",
       "      <td>1</td>\n",
       "      <td>English</td>\n",
       "      <td>Sci-fi comedy</td>\n",
       "      <td>8.1</td>\n",
       "      <td>16+</td>\n",
       "    </tr>\n",
       "    <tr>\n",
       "      <th>2</th>\n",
       "      <td>3</td>\n",
       "      <td>The Marvelous Mrs. Maisel</td>\n",
       "      <td>2017</td>\n",
       "      <td>3</td>\n",
       "      <td>English</td>\n",
       "      <td>Drama, Comedy</td>\n",
       "      <td>8.7</td>\n",
       "      <td>16+</td>\n",
       "    </tr>\n",
       "    <tr>\n",
       "      <th>3</th>\n",
       "      <td>4</td>\n",
       "      <td>Four More Shots Please</td>\n",
       "      <td>2019</td>\n",
       "      <td>2</td>\n",
       "      <td>Hindi</td>\n",
       "      <td>Drama, Comedy</td>\n",
       "      <td>5.3</td>\n",
       "      <td>18+</td>\n",
       "    </tr>\n",
       "    <tr>\n",
       "      <th>4</th>\n",
       "      <td>5</td>\n",
       "      <td>Fleabag</td>\n",
       "      <td>2016</td>\n",
       "      <td>2</td>\n",
       "      <td>English</td>\n",
       "      <td>Comedy</td>\n",
       "      <td>8.7</td>\n",
       "      <td>18+</td>\n",
       "    </tr>\n",
       "  </tbody>\n",
       "</table>\n",
       "</div>"
      ],
      "text/plain": [
       "   S.no.           Name of the show  Year of release  No of seasons available  \\\n",
       "0      1                 Pataal Lok             2020                        1   \n",
       "1      2                     Upload             2020                        1   \n",
       "2      3  The Marvelous Mrs. Maisel             2017                        3   \n",
       "3      4     Four More Shots Please             2019                        2   \n",
       "4      5                    Fleabag             2016                        2   \n",
       "\n",
       "  Language          Genre  IMDb rating Age of viewers  \n",
       "0    Hindi          Drama          7.5            18+  \n",
       "1  English  Sci-fi comedy          8.1            16+  \n",
       "2  English  Drama, Comedy          8.7            16+  \n",
       "3    Hindi  Drama, Comedy          5.3            18+  \n",
       "4  English         Comedy          8.7            18+  "
      ]
     },
     "execution_count": 4,
     "metadata": {},
     "output_type": "execute_result"
    }
   ],
   "source": [
    "df.head()"
   ]
  },
  {
   "cell_type": "code",
   "execution_count": 5,
   "metadata": {},
   "outputs": [
    {
     "data": {
      "text/plain": [
       "(393, 8)"
      ]
     },
     "execution_count": 5,
     "metadata": {},
     "output_type": "execute_result"
    }
   ],
   "source": [
    "df.shape"
   ]
  },
  {
   "cell_type": "code",
   "execution_count": 6,
   "metadata": {},
   "outputs": [
    {
     "data": {
      "text/plain": [
       "S.no.                        0\n",
       "Name of the show             0\n",
       "Year of release              0\n",
       "No of seasons available      0\n",
       "Language                     0\n",
       "Genre                        0\n",
       "IMDb rating                211\n",
       "Age of viewers               0\n",
       "dtype: int64"
      ]
     },
     "execution_count": 6,
     "metadata": {},
     "output_type": "execute_result"
    }
   ],
   "source": [
    "df.isna().sum()"
   ]
  },
  {
   "cell_type": "code",
   "execution_count": 7,
   "metadata": {},
   "outputs": [],
   "source": [
    "def sort(DataFrame, ascending=bool, col=[0]):\r\n",
    "    df = DataFrame\r\n",
    "    print(df.sort_values(ascending=bool, by=col))"
   ]
  },
  {
   "cell_type": "code",
   "execution_count": 8,
   "metadata": {},
   "outputs": [
    {
     "name": "stdout",
     "output_type": "stream",
     "text": [
      "     S.no.                Name of the show  Year of release  \\\n",
      "355    356                #IMomSoHard Live             2019   \n",
      "264    265                   2 Broke Girls             2012   \n",
      "139    140                  21 Jump Street             1987   \n",
      "168    169                        4 Blocks             2017   \n",
      "382    383             A New Kind Of Magic             2017   \n",
      "..     ...                             ...              ...   \n",
      "258    259                   Young Sheldon             2018   \n",
      "221    222          Your brush with Nature             2008   \n",
      "148    149  Z: The Beginning of Everything             2017   \n",
      "280    281                Zabaan Sambhalke             1993   \n",
      "339    340   Zoe Coombs Marr: Bossy Bottom             2020   \n",
      "\n",
      "     No of seasons available Language   Genre  IMDb rating Age of viewers  \n",
      "355                        1  English  Comedy          5.4            16+  \n",
      "264                        6  English  Comedy          6.7            16+  \n",
      "139                        5  English   Drama          NaN            16+  \n",
      "168                        2  English   Drama          NaN            16+  \n",
      "382                        2  English  Comedy          NaN            All  \n",
      "..                       ...      ...     ...          ...            ...  \n",
      "258                        3  English  Comedy          NaN            13+  \n",
      "221                        1  English   Drama          NaN            All  \n",
      "148                        1  English   Drama          7.2            18+  \n",
      "280                        1    Hindi  Comedy          NaN            13+  \n",
      "339                        1  English  Comedy          NaN            18+  \n",
      "\n",
      "[393 rows x 8 columns]\n"
     ]
    }
   ],
   "source": [
    "sort(df, ascending=True, col= ['Name of the show'])"
   ]
  },
  {
   "cell_type": "code",
   "execution_count": null,
   "metadata": {},
   "outputs": [],
   "source": []
  }
 ],
 "metadata": {
  "interpreter": {
   "hash": "2db524e06e9f5f4ffedc911c917cb75e12dbc923643829bf417064a77eb14d37"
  },
  "kernelspec": {
   "display_name": "Python 3.8.3 64-bit",
   "name": "python3"
  },
  "language_info": {
   "codemirror_mode": {
    "name": "ipython",
    "version": 3
   },
   "file_extension": ".py",
   "mimetype": "text/x-python",
   "name": "python",
   "nbconvert_exporter": "python",
   "pygments_lexer": "ipython3",
   "version": "3.8.3"
  },
  "orig_nbformat": 4
 },
 "nbformat": 4,
 "nbformat_minor": 2
}